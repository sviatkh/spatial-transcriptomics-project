{
 "cells": [
  {
   "cell_type": "code",
   "execution_count": null,
   "id": "53e7fba5",
   "metadata": {
    "vscode": {
     "languageId": "r"
    }
   },
   "outputs": [
    {
     "ename": "ERROR",
     "evalue": "Error in library(\"ggspavis\"): there is no package called ‘ggspavis’\n",
     "output_type": "error",
     "traceback": [
      "Error in library(\"ggspavis\"): there is no package called ‘ggspavis’\nTraceback:\n",
      "1. withCallingHandlers(expr, message = function(c) if (inherits(c, \n .     classes)) tryInvokeRestart(\"muffleMessage\"))",
      "2. library(\"ggspavis\")",
      "3. stop(packageNotFoundError(package, lib.loc, sys.call()))"
     ]
    }
   ],
   "source": [
    "suppressMessages(library(\"SingleCellExperiment\"))\n",
    "suppressMessages(library(\"BayesSpace\"))"
   ]
  },
  {
   "cell_type": "code",
   "execution_count": null,
   "id": "2c019c54",
   "metadata": {
    "vscode": {
     "languageId": "r"
    }
   },
   "outputs": [],
   "source": [
    "# assign vector of sample names\n",
    "sample_names <- c(\"ST_GSM6171784_PSAPP_CO1.rds\", \"ST_GSM6171785_PSAPP_TAM1.rds\", \"ST_GSM6171788_PSAPP_CO2.rds\", \"ST_GSM6171789_PSAPP_TAM2.rds\", \"ST_GSM6171792_PSAPP_CO3.rds\", \"ST_GSM6171793_PSAPP_TAM3.rds\") "
   ]
  },
  {
   "cell_type": "code",
   "execution_count": null,
   "id": "c63489b3",
   "metadata": {
    "vscode": {
     "languageId": "r"
    }
   },
   "outputs": [],
   "source": [
    "# load data\n",
    "for (sample in sample_names) {\n",
    "  # load the data\n",
    "  spe <- readRDS(paste0(\"../data/\", sample))\n",
    "  \n",
    "  # preprocess the data\n",
    "  .spe <- spatialPreprocess(spe, skip.PCA=TRUE)\n",
    "  \n",
    "  # run BayesSpace clustering\n",
    "  .spe <- spatialCluster(.spe, nrep=1e3, burn.in=100, q=7, d=20)\n",
    "  \n",
    "  # save the object \n",
    "  saveRDS(.spe, paste0(\"../data/\", sample))\n",
    "}"
   ]
  }
 ],
 "metadata": {
  "kernelspec": {
   "display_name": "R",
   "language": "R",
   "name": "ir"
  },
  "language_info": {
   "codemirror_mode": "r",
   "file_extension": ".r",
   "mimetype": "text/x-r-source",
   "name": "R",
   "pygments_lexer": "r",
   "version": "4.4.2"
  }
 },
 "nbformat": 4,
 "nbformat_minor": 5
}
